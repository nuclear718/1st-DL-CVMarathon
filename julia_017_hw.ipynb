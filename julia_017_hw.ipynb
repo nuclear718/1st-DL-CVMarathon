{
 "cells": [
  {
   "cell_type": "markdown",
   "metadata": {
    "colab_type": "text",
    "id": "RwwJrhTYktEu"
   },
   "source": [
    "# Julia DataFrames.jl 介紹\n",
    "\n",
    "# Day 017 作業：載入 COVID-19 資料集\n",
    "\n",
    "今天的作業將使用 `DataFrames.jl` 及 `CSV.jl` 套件，來載入美國約翰霍普金斯大學提供的 COVID-19 資料集 (2019 Novel Coronavirus COVID-19 (2019-nCoV) Data Repository by Johns Hopkins CSSE)。資料集作為教育及研究使用，並且被用來建立視覺化儀表板提供檢視及追蹤 COVID-19 疫情狀況。\n",
    "\n",
    "資料集 GitHub: [https://github.com/CSSEGISandData/COVID-19](https://github.com/CSSEGISandData/COVID-19)\n",
    "\n",
    "資料集格式為 CSV，整合不同資料來源，主要分為 Daily Report 及時間序列資料。\n",
    "\n",
    "請自行下載 2020/4/2 的 daily report資料集：[https://github.com/CSSEGISandData/COVID-19/blob/master/csse_covid_19_data/csse_covid_19_daily_reports/04-02-2020.csv](https://github.com/CSSEGISandData/COVID-19/blob/master/csse_covid_19_data/csse_covid_19_daily_reports/04-02-2020.csv)\n",
    "\n",
    "Daily Report 主要欄位有：\n",
    "\n",
    "- Province/State: 省名 (中國)、州名或市名 (美國、加拿大、澳洲)、或是事件名稱 (例如鑽石公主號)...\n",
    "- Country/Region: 國名或區域名\n",
    "- Last Update: 最後更新日期/時間，格式為 24 小時制的 UTC 時間\n",
    "- Confirmed: 確診案例\n",
    "- Deaths: 死亡案例\n",
    "- Recovered: 康復案例\n",
    "- Lat, Long: 經緯度\n",
    "- Combined Key: 複合 Key 值"
   ]
  },
  {
   "cell_type": "code",
   "execution_count": 1,
   "metadata": {
    "colab": {},
    "colab_type": "code",
    "id": "vuP8jUnyktEw"
   },
   "outputs": [],
   "source": [
    "using DataFrames, CSV"
   ]
  },
  {
   "cell_type": "code",
   "execution_count": 8,
   "metadata": {
    "colab": {},
    "colab_type": "code",
    "id": "OpdMDBpOktE2"
   },
   "outputs": [],
   "source": [
    "df =CSV.read(\"C:/Users/USER/Julia MaRaThon/04-02-2020.csv\",copycols=true); # 撰寫讀取 CSV 檔的程式碼"
   ]
  },
  {
   "cell_type": "markdown",
   "metadata": {
    "colab_type": "text",
    "id": "tjHT7JguktE8"
   },
   "source": [
    "請問此資料集的筆數 (row) 及欄位數 (column) 各是多少？"
   ]
  },
  {
   "cell_type": "code",
   "execution_count": 10,
   "metadata": {},
   "outputs": [
    {
     "name": "stdout",
     "output_type": "stream",
     "text": [
      "2569×12 DataFrame\n",
      "│ Row  │ FIPS    │ Admin2     │ Province_State │ Country_Region       │ Last_Update         │ Lat      │ Long_    │ Confirmed │ Deaths │ Recovered │ Active │ Combined_Key                  │\n",
      "│      │ \u001b[90mInt64⍰\u001b[39m  │ \u001b[90mString⍰\u001b[39m    │ \u001b[90mString⍰\u001b[39m        │ \u001b[90mString\u001b[39m               │ \u001b[90mString\u001b[39m              │ \u001b[90mFloat64⍰\u001b[39m │ \u001b[90mFloat64⍰\u001b[39m │ \u001b[90mInt64\u001b[39m     │ \u001b[90mInt64\u001b[39m  │ \u001b[90mInt64\u001b[39m     │ \u001b[90mInt64\u001b[39m  │ \u001b[90mString\u001b[39m                        │\n",
      "├──────┼─────────┼────────────┼────────────────┼──────────────────────┼─────────────────────┼──────────┼──────────┼───────────┼────────┼───────────┼────────┼───────────────────────────────┤\n",
      "│ 1    │ 45001   │ Abbeville  │ South Carolina │ US                   │ 2020-04-02 23:25:27 │ 34.2233  │ -82.4617 │ 6         │ 0      │ 0         │ 0      │ Abbeville, South Carolina, US │\n",
      "│ 2    │ 22001   │ Acadia     │ Louisiana      │ US                   │ 2020-04-02 23:25:27 │ 30.2951  │ -92.4142 │ 61        │ 1      │ 0         │ 0      │ Acadia, Louisiana, US         │\n",
      "│ 3    │ 51001   │ Accomack   │ Virginia       │ US                   │ 2020-04-02 23:25:27 │ 37.7671  │ -75.6323 │ 10        │ 0      │ 0         │ 0      │ Accomack, Virginia, US        │\n",
      "│ 4    │ 16001   │ Ada        │ Idaho          │ US                   │ 2020-04-02 23:25:27 │ 43.4527  │ -116.242 │ 312       │ 3      │ 0         │ 0      │ Ada, Idaho, US                │\n",
      "│ 5    │ 19001   │ Adair      │ Iowa           │ US                   │ 2020-04-02 23:25:27 │ 41.3308  │ -94.4711 │ 1         │ 0      │ 0         │ 0      │ Adair, Iowa, US               │\n",
      "│ 6    │ 29001   │ Adair      │ Missouri       │ US                   │ 2020-04-02 23:25:27 │ 40.1906  │ -92.6008 │ 6         │ 0      │ 0         │ 0      │ Adair, Missouri, US           │\n",
      "│ 7    │ 40001   │ Adair      │ Oklahoma       │ US                   │ 2020-04-02 23:25:27 │ 35.8849  │ -94.6586 │ 9         │ 0      │ 0         │ 0      │ Adair, Oklahoma, US           │\n",
      "│ 8    │ 8001    │ Adams      │ Colorado       │ US                   │ 2020-04-02 23:25:27 │ 39.8743  │ -104.336 │ 212       │ 2      │ 0         │ 0      │ Adams, Colorado, US           │\n",
      "│ 9    │ 16003   │ Adams      │ Idaho          │ US                   │ 2020-04-02 23:25:27 │ 44.8933  │ -116.455 │ 1         │ 0      │ 0         │ 0      │ Adams,Idaho,US                │\n",
      "│ 10   │ 17001   │ Adams      │ Illinois       │ US                   │ 2020-04-02 23:25:27 │ 39.9882  │ -91.1879 │ 2         │ 0      │ 0         │ 0      │ Adams, Illinois, US           │\n",
      "⋮\n",
      "│ 2559 │ \u001b[90mmissing\u001b[39m │ \u001b[90mmissing\u001b[39m    │ \u001b[90mmissing\u001b[39m        │ Ukraine              │ 2020-04-02 23:25:14 │ 48.3794  │ 31.1656  │ 897       │ 22     │ 19        │ 856    │ Ukraine                       │\n",
      "│ 2560 │ \u001b[90mmissing\u001b[39m │ \u001b[90mmissing\u001b[39m    │ \u001b[90mmissing\u001b[39m        │ United Arab Emirates │ 2020-04-02 23:25:14 │ 23.4241  │ 53.8478  │ 1024      │ 8      │ 96        │ 920    │ United Arab Emirates          │\n",
      "│ 2561 │ \u001b[90mmissing\u001b[39m │ \u001b[90mmissing\u001b[39m    │ \u001b[90mmissing\u001b[39m        │ United Kingdom       │ 2020-04-02 23:25:14 │ 55.3781  │ -3.436   │ 33718     │ 2921   │ 135       │ 30662  │ United Kingdom                │\n",
      "│ 2562 │ \u001b[90mmissing\u001b[39m │ \u001b[90mmissing\u001b[39m    │ \u001b[90mmissing\u001b[39m        │ Uruguay              │ 2020-04-02 23:25:14 │ -32.5228 │ -55.7658 │ 350       │ 4      │ 62        │ 284    │ Uruguay                       │\n",
      "│ 2563 │ \u001b[90mmissing\u001b[39m │ \u001b[90mmissing\u001b[39m    │ \u001b[90mmissing\u001b[39m        │ Uzbekistan           │ 2020-04-02 23:25:14 │ 41.3775  │ 64.5853  │ 205       │ 2      │ 25        │ 178    │ Uzbekistan                    │\n",
      "│ 2564 │ \u001b[90mmissing\u001b[39m │ \u001b[90mmissing\u001b[39m    │ \u001b[90mmissing\u001b[39m        │ Venezuela            │ 2020-04-02 23:25:14 │ 6.4238   │ -66.5897 │ 146       │ 5      │ 43        │ 98     │ Venezuela                     │\n",
      "│ 2565 │ \u001b[90mmissing\u001b[39m │ \u001b[90mmissing\u001b[39m    │ \u001b[90mmissing\u001b[39m        │ Vietnam              │ 2020-04-02 23:25:14 │ 14.0583  │ 108.277  │ 233       │ 0      │ 75        │ 158    │ Vietnam                       │\n",
      "│ 2566 │ \u001b[90mmissing\u001b[39m │ \u001b[90mmissing\u001b[39m    │ \u001b[90mmissing\u001b[39m        │ West Bank and Gaza   │ 2020-04-02 23:25:14 │ 31.9522  │ 35.2332  │ 161       │ 1      │ 18        │ 142    │ West Bank and Gaza            │\n",
      "│ 2567 │ \u001b[90mmissing\u001b[39m │ \u001b[90mmissing\u001b[39m    │ \u001b[90mmissing\u001b[39m        │ Zambia               │ 2020-04-02 23:25:14 │ -13.1339 │ 27.8493  │ 39        │ 1      │ 0         │ 38     │ Zambia                        │\n",
      "│ 2568 │ \u001b[90mmissing\u001b[39m │ \u001b[90mmissing\u001b[39m    │ \u001b[90mmissing\u001b[39m        │ Zimbabwe             │ 2020-04-02 23:25:14 │ -19.0154 │ 29.1549  │ 9         │ 1      │ 0         │ 8      │ Zimbabwe                      │\n",
      "│ 2569 │ \u001b[90mmissing\u001b[39m │ unassigned │ Wyoming        │ US                   │ 2020-04-02 23:25:27 │ \u001b[90mmissing\u001b[39m  │ \u001b[90mmissing\u001b[39m  │ 0         │ 0      │ 0         │ 0      │ unassigned, Wyoming, US       │"
     ]
    }
   ],
   "source": [
    "show(df,splitcols=false,summary=true)"
   ]
  },
  {
   "cell_type": "code",
   "execution_count": 6,
   "metadata": {
    "colab": {},
    "colab_type": "code",
    "id": "PsiCFHoQktE9"
   },
   "outputs": [
    {
     "data": {
      "text/plain": [
       "(2569, 12)"
      ]
     },
     "execution_count": 6,
     "metadata": {},
     "output_type": "execute_result"
    }
   ],
   "source": [
    "# 請在此輸入程式碼\n",
    "size(df)"
   ]
  },
  {
   "cell_type": "code",
   "execution_count": 7,
   "metadata": {
    "colab": {},
    "colab_type": "code",
    "id": "rM_SuUgiktFB"
   },
   "outputs": [
    {
     "data": {
      "text/html": [
       "<table class=\"data-frame\"><thead><tr><th></th><th>variable</th><th>mean</th><th>min</th><th>median</th><th>max</th></tr><tr><th></th><th>Symbol</th><th>Union…</th><th>Any</th><th>Union…</th><th>Any</th></tr></thead><tbody><p>12 rows × 8 columns (omitted printing of 3 columns)</p><tr><th>1</th><td>FIPS</td><td>30958.4</td><td>66</td><td>29093.0</td><td>99999</td></tr><tr><th>2</th><td>Admin2</td><td></td><td>Abbeville</td><td></td><td>unassigned</td></tr><tr><th>3</th><td>Province_State</td><td></td><td>Alabama</td><td></td><td>Zhejiang</td></tr><tr><th>4</th><td>Country_Region</td><td></td><td>Afghanistan</td><td></td><td>Zimbabwe</td></tr><tr><th>5</th><td>Last_Update</td><td></td><td>2020-02-23 11:19:02</td><td></td><td>2020-04-02 23:32:01</td></tr><tr><th>6</th><td>Lat</td><td>36.2992</td><td>-42.8821</td><td>37.7171</td><td>71.7069</td></tr><tr><th>7</th><td>Long_</td><td>-78.9577</td><td>-159.597</td><td>-86.5104</td><td>178.065</td></tr><tr><th>8</th><td>Confirmed</td><td>394.378</td><td>0</td><td>7.0</td><td>115242</td></tr><tr><th>9</th><td>Deaths</td><td>20.624</td><td>0</td><td>0.0</td><td>13915</td></tr><tr><th>10</th><td>Recovered</td><td>81.8462</td><td>0</td><td>0.0</td><td>63471</td></tr><tr><th>11</th><td>Active</td><td>199.29</td><td>0</td><td>0.0</td><td>83049</td></tr><tr><th>12</th><td>Combined_Key</td><td></td><td>,,Belize</td><td></td><td>unassigned, Wyoming, US</td></tr></tbody></table>"
      ],
      "text/latex": [
       "\\begin{tabular}{r|cccccc}\n",
       "\t& variable & mean & min & median & max & \\\\\n",
       "\t\\hline\n",
       "\t& Symbol & Union… & Any & Union… & Any & \\\\\n",
       "\t\\hline\n",
       "\t1 & FIPS & 30958.4 & 66 & 29093.0 & 99999 & $\\dots$ \\\\\n",
       "\t2 & Admin2 &  & Abbeville &  & unassigned & $\\dots$ \\\\\n",
       "\t3 & Province\\_State &  & Alabama &  & Zhejiang & $\\dots$ \\\\\n",
       "\t4 & Country\\_Region &  & Afghanistan &  & Zimbabwe & $\\dots$ \\\\\n",
       "\t5 & Last\\_Update &  & 2020-02-23 11:19:02 &  & 2020-04-02 23:32:01 & $\\dots$ \\\\\n",
       "\t6 & Lat & 36.2992 & -42.8821 & 37.7171 & 71.7069 & $\\dots$ \\\\\n",
       "\t7 & Long\\_ & -78.9577 & -159.597 & -86.5104 & 178.065 & $\\dots$ \\\\\n",
       "\t8 & Confirmed & 394.378 & 0 & 7.0 & 115242 & $\\dots$ \\\\\n",
       "\t9 & Deaths & 20.624 & 0 & 0.0 & 13915 & $\\dots$ \\\\\n",
       "\t10 & Recovered & 81.8462 & 0 & 0.0 & 63471 & $\\dots$ \\\\\n",
       "\t11 & Active & 199.29 & 0 & 0.0 & 83049 & $\\dots$ \\\\\n",
       "\t12 & Combined\\_Key &  & ,,Belize &  & unassigned, Wyoming, US & $\\dots$ \\\\\n",
       "\\end{tabular}\n"
      ],
      "text/plain": [
       "12×8 DataFrame. Omitted printing of 4 columns\n",
       "│ Row │ variable       │ mean     │ min                 │ median   │\n",
       "│     │ \u001b[90mSymbol\u001b[39m         │ \u001b[90mUnion…\u001b[39m   │ \u001b[90mAny\u001b[39m                 │ \u001b[90mUnion…\u001b[39m   │\n",
       "├─────┼────────────────┼──────────┼─────────────────────┼──────────┤\n",
       "│ 1   │ FIPS           │ 30958.4  │ 66                  │ 29093.0  │\n",
       "│ 2   │ Admin2         │          │ Abbeville           │          │\n",
       "│ 3   │ Province_State │          │ Alabama             │          │\n",
       "│ 4   │ Country_Region │          │ Afghanistan         │          │\n",
       "│ 5   │ Last_Update    │          │ 2020-02-23 11:19:02 │          │\n",
       "│ 6   │ Lat            │ 36.2992  │ -42.8821            │ 37.7171  │\n",
       "│ 7   │ Long_          │ -78.9577 │ -159.597            │ -86.5104 │\n",
       "│ 8   │ Confirmed      │ 394.378  │ 0                   │ 7.0      │\n",
       "│ 9   │ Deaths         │ 20.624   │ 0                   │ 0.0      │\n",
       "│ 10  │ Recovered      │ 81.8462  │ 0                   │ 0.0      │\n",
       "│ 11  │ Active         │ 199.29   │ 0                   │ 0.0      │\n",
       "│ 12  │ Combined_Key   │          │ ,,Belize            │          │"
      ]
     },
     "execution_count": 7,
     "metadata": {},
     "output_type": "execute_result"
    }
   ],
   "source": [
    "# 彙總 DataFrame 資訊\n",
    "describe(df)"
   ]
  },
  {
   "cell_type": "markdown",
   "metadata": {
    "colab_type": "text",
    "id": "_JFYFQPYktFG"
   },
   "source": [
    "### 作業1：數值 Column 的計算\n",
    "\n",
    "請問截至4月2日為止 (UTC 時間)，全球累計的確診、死亡、及㡽復案例數各是多少？\n",
    "\n",
    "【提示】可參考 `sum()` 內建函式。"
   ]
  },
  {
   "cell_type": "code",
   "execution_count": 16,
   "metadata": {
    "colab": {},
    "colab_type": "code",
    "id": "FbDS2rEqktFG"
   },
   "outputs": [
    {
     "name": "stdout",
     "output_type": "stream",
     "text": [
      "Total Confirmed=1013157  Total Death=52983  Total Recovered=210263"
     ]
    }
   ],
   "source": [
    "totalconfirmed=sum(df[:,:Confirmed])\n",
    "totaldeath=sum(df[:,:Deaths])\n",
    "totalrecovered=sum(df[:,:Recovered])\n",
    "print(\"Total Confirmed=\",totalconfirmed,\"  \",\"Total Death=\",totaldeath,\"  \",\"Total Recovered=\",totalrecovered)"
   ]
  },
  {
   "cell_type": "markdown",
   "metadata": {
    "colab_type": "text",
    "id": "L18CxMYmktFL"
   },
   "source": [
    "上面解答範例列出確診案例數前 10 名的 Province_State, Country_Region, Confirmed, Deaths, Recovered 等 5 個 column。"
   ]
  },
  {
   "cell_type": "markdown",
   "metadata": {
    "colab_type": "text",
    "id": "edTskysektFL"
   },
   "source": [
    "### 作業2：找出特定的 Row\n",
    "\n",
    "截至4月2日為止 (UTC 時間)，台灣的確診、死亡、及㡽復案例數為多少？\n",
    "\n",
    "【提示】使用點運算 `.==` 來比較同一 column 中所有值。"
   ]
  },
  {
   "cell_type": "code",
   "execution_count": 27,
   "metadata": {},
   "outputs": [
    {
     "data": {
      "text/plain": [
       "2550"
      ]
     },
     "execution_count": 27,
     "metadata": {},
     "output_type": "execute_result"
    }
   ],
   "source": [
    "findidx=df[:,:Combined_Key].==\"Taiwan*\"\n",
    "idx=findall(x->x==1,findidx)[1]"
   ]
  },
  {
   "cell_type": "code",
   "execution_count": 36,
   "metadata": {},
   "outputs": [
    {
     "name": "stdout",
     "output_type": "stream",
     "text": [
      "Confirmed=339  Death=5  Recovered=45"
     ]
    }
   ],
   "source": [
    "TaiwanConfirmed=df[idx,:Confirmed]\n",
    "TaiwanDeath=df[idx,:Deaths]\n",
    "TaiwanRecovered=df[idx,:Recovered]\n",
    "print(\"Confirmed=\",TaiwanConfirmed,\"  \",\"Death=\",TaiwanDeath,\"  \",\"Recovered=\",TaiwanRecovered)"
   ]
  }
 ],
 "metadata": {
  "colab": {
   "name": "julia_017_hw.ipynb",
   "provenance": []
  },
  "kernelspec": {
   "display_name": "Julia 1.3.1",
   "language": "julia",
   "name": "julia-1.3"
  },
  "language_info": {
   "file_extension": ".jl",
   "mimetype": "application/julia",
   "name": "julia",
   "version": "1.3.1"
  }
 },
 "nbformat": 4,
 "nbformat_minor": 4
}

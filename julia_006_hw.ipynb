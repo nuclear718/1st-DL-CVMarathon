{
 "cells": [
  {
   "cell_type": "markdown",
   "metadata": {
    "colab_type": "text",
    "id": "xGRRA-qCa1ug"
   },
   "source": [
    "# Julia 函式 (Functions)\n",
    "\n",
    "## 作業 006：身高體重指數 (Body Mass Index; BMI) 計算機\n",
    "\n",
    "身高體重指數 (Body Mass Index; BMI) 是我們常用來衡量健康的指標之一，例如肥胖是否為某一種疾病的致病原因。請用 Julia 函式撰寫 BMI 計算公式，並呼叫函式計算 BMI 值。\n",
    "\n",
    "BMI 計算公式：\n",
    "$$BMI=\\frac{體重}{身高^2}$$\n",
    "其中體重的單位為公斤，身高的單位為公尺。"
   ]
  },
  {
   "cell_type": "code",
   "execution_count": 5,
   "metadata": {
    "colab": {},
    "colab_type": "code",
    "id": "0ENgBuhna1uj"
   },
   "outputs": [
    {
     "data": {
      "text/plain": [
       "bmi (generic function with 4 methods)"
      ]
     },
     "execution_count": 5,
     "metadata": {},
     "output_type": "execute_result"
    }
   ],
   "source": [
    "# 定義函式，並在函式中計算 BMI\n",
    "\n",
    "function bmi(w::Float64=65.0,h::Float64=1.70)\n",
    "    bmidx=(w/(h)^2)\n",
    "end"
   ]
  },
  {
   "cell_type": "code",
   "execution_count": 8,
   "metadata": {},
   "outputs": [
    {
     "data": {
      "text/plain": [
       "22.49134948096886"
      ]
     },
     "execution_count": 8,
     "metadata": {},
     "output_type": "execute_result"
    }
   ],
   "source": [
    "# 呼叫上面定義的函式，以函數本身預設值做例子，得到計算出來的 BMI\n",
    "\n",
    "bmi()"
   ]
  },
  {
   "cell_type": "code",
   "execution_count": 9,
   "metadata": {
    "colab": {},
    "colab_type": "code",
    "id": "HjjZi9l8a1up"
   },
   "outputs": [
    {
     "data": {
      "text/plain": [
       "26.953124999999996"
      ]
     },
     "execution_count": 9,
     "metadata": {},
     "output_type": "execute_result"
    }
   ],
   "source": [
    "# 可再次呼叫上面定義的函式，計算其他人的 BMI\n",
    "\n",
    "w=69 #體重69公斤\n",
    "h=1.60 #身高1.6公尺\n",
    "\n",
    "BMI=bmi(w,h) #呼叫函數計算求值\n"
   ]
  },
  {
   "cell_type": "code",
   "execution_count": null,
   "metadata": {
    "colab": {},
    "colab_type": "code",
    "id": "GjUEXOega1u1"
   },
   "outputs": [],
   "source": []
  }
 ],
 "metadata": {
  "colab": {
   "name": "julia_006_hw.ipynb",
   "provenance": []
  },
  "kernelspec": {
   "display_name": "Julia 1.3.1",
   "language": "julia",
   "name": "julia-1.3"
  },
  "language_info": {
   "file_extension": ".jl",
   "mimetype": "application/julia",
   "name": "julia",
   "version": "1.3.1"
  }
 },
 "nbformat": 4,
 "nbformat_minor": 4
}
